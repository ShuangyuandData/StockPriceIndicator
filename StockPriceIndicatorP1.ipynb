{
 "cells": [
  {
   "cell_type": "markdown",
   "metadata": {},
   "source": [
    "### Investment and Trading Capstone Project\n",
    "# Build a Stock Price Indicator"
   ]
  },
  {
   "cell_type": "markdown",
   "metadata": {},
   "source": [
    "## Description\n",
    "\n",
    "Investment firms, hedge funds and even individuals have been using financial models to better understand market behavior and make profitable investments and trades. A wealth of information is available in the form of historical stock prices and company performance data, suitable for machine learning algorithms to process.\n",
    "\n",
    "\n",
    "For this project, the task is to build a stock price predictor that takes daily trading data over a certain date range as input, and outputs projected estimates for given query dates. Note that the inputs will contain multiple metrics, such as opening price (Open), highest price the stock traded at (High), how many stocks were traded (Volume) and closing price adjusted for stock splits and dividends (Adjusted Close); your system only needs to predict the Adjusted Close price.\n",
    "\n",
    "\n",
    "Feel free to choose what form your project takes (a simple script, a web app/service, Android/iOS app, etc.), and any additions/modifications to make to the project (e.g. suggesting what trades to make). Make sure you document your intended features in your report."
   ]
  },
  {
   "cell_type": "markdown",
   "metadata": {},
   "source": [
    "### Step one: Download the data"
   ]
  },
  {
   "cell_type": "markdown",
   "metadata": {},
   "source": [
    "1.Yahoo! Finance: You can directly query for a stock through the web API, or download a dump of .csv files and use them.\n",
    "\n",
    "2.Bloomberg API: Multiple APIs available, including Python.\n",
    "\n",
    "3.Quandl: Also multiple APIs, including Python."
   ]
  },
  {
   "cell_type": "markdown",
   "metadata": {},
   "source": [
    "#### Input:\n",
    "Open, High, Low, Close, Volume and Adjusted Close\n",
    "#### Output:\n",
    "Adjusted Close"
   ]
  },
  {
   "cell_type": "markdown",
   "metadata": {},
   "source": [
    "#### Yahoo Finance:\n",
    "Direct Download: Go to Yahoo Finance.\n",
    "-Enter a quote into the search field.\n",
    "-Select a quote in the search results to view it.\n",
    "-Click Historical Data.\n",
    "-Select a Time Period, data to Show, and Frequency.\n",
    "-Click Apply.\n",
    "-To use the data offline, click Download Data."
   ]
  },
  {
   "cell_type": "code",
   "execution_count": 2,
   "metadata": {
    "collapsed": true
   },
   "outputs": [],
   "source": [
    "import numpy as np\n",
    "import pandas as pd"
   ]
  },
  {
   "cell_type": "code",
   "execution_count": 6,
   "metadata": {},
   "outputs": [
    {
     "data": {
      "text/html": [
       "<div>\n",
       "<style>\n",
       "    .dataframe thead tr:only-child th {\n",
       "        text-align: right;\n",
       "    }\n",
       "\n",
       "    .dataframe thead th {\n",
       "        text-align: left;\n",
       "    }\n",
       "\n",
       "    .dataframe tbody tr th {\n",
       "        vertical-align: top;\n",
       "    }\n",
       "</style>\n",
       "<table border=\"1\" class=\"dataframe\">\n",
       "  <thead>\n",
       "    <tr style=\"text-align: right;\">\n",
       "      <th></th>\n",
       "      <th>Date</th>\n",
       "      <th>Open</th>\n",
       "      <th>High</th>\n",
       "      <th>Low</th>\n",
       "      <th>Close</th>\n",
       "      <th>Adj Close</th>\n",
       "      <th>Volume</th>\n",
       "    </tr>\n",
       "  </thead>\n",
       "  <tbody>\n",
       "    <tr>\n",
       "      <th>247</th>\n",
       "      <td>2019-08-14</td>\n",
       "      <td>2894.149902</td>\n",
       "      <td>2894.149902</td>\n",
       "      <td>2839.639893</td>\n",
       "      <td>2840.600098</td>\n",
       "      <td>2840.600098</td>\n",
       "      <td>4312530000</td>\n",
       "    </tr>\n",
       "    <tr>\n",
       "      <th>248</th>\n",
       "      <td>2019-08-15</td>\n",
       "      <td>2846.199951</td>\n",
       "      <td>2856.669922</td>\n",
       "      <td>2825.510010</td>\n",
       "      <td>2847.600098</td>\n",
       "      <td>2847.600098</td>\n",
       "      <td>4038000000</td>\n",
       "    </tr>\n",
       "    <tr>\n",
       "      <th>249</th>\n",
       "      <td>2019-08-16</td>\n",
       "      <td>2864.739990</td>\n",
       "      <td>2893.629883</td>\n",
       "      <td>2864.739990</td>\n",
       "      <td>2888.679932</td>\n",
       "      <td>2888.679932</td>\n",
       "      <td>3498150000</td>\n",
       "    </tr>\n",
       "    <tr>\n",
       "      <th>250</th>\n",
       "      <td>2019-08-19</td>\n",
       "      <td>2913.479980</td>\n",
       "      <td>2931.000000</td>\n",
       "      <td>2913.479980</td>\n",
       "      <td>2923.649902</td>\n",
       "      <td>2923.649902</td>\n",
       "      <td>3212880000</td>\n",
       "    </tr>\n",
       "    <tr>\n",
       "      <th>251</th>\n",
       "      <td>2019-08-20</td>\n",
       "      <td>2919.010010</td>\n",
       "      <td>2923.629883</td>\n",
       "      <td>2903.959961</td>\n",
       "      <td>2908.370117</td>\n",
       "      <td>2908.370117</td>\n",
       "      <td>1161061878</td>\n",
       "    </tr>\n",
       "  </tbody>\n",
       "</table>\n",
       "</div>"
      ],
      "text/plain": [
       "           Date         Open         High          Low        Close  \\\n",
       "247  2019-08-14  2894.149902  2894.149902  2839.639893  2840.600098   \n",
       "248  2019-08-15  2846.199951  2856.669922  2825.510010  2847.600098   \n",
       "249  2019-08-16  2864.739990  2893.629883  2864.739990  2888.679932   \n",
       "250  2019-08-19  2913.479980  2931.000000  2913.479980  2923.649902   \n",
       "251  2019-08-20  2919.010010  2923.629883  2903.959961  2908.370117   \n",
       "\n",
       "       Adj Close      Volume  \n",
       "247  2840.600098  4312530000  \n",
       "248  2847.600098  4038000000  \n",
       "249  2888.679932  3498150000  \n",
       "250  2923.649902  3212880000  \n",
       "251  2908.370117  1161061878  "
      ]
     },
     "execution_count": 6,
     "metadata": {},
     "output_type": "execute_result"
    }
   ],
   "source": [
    "### example of .csv file downloaded from Yahoo Finance\n",
    "fdyh1 = pd.read_csv('./^GSPC.csv')\n",
    "fdyh1.tail()"
   ]
  },
  {
   "cell_type": "code",
   "execution_count": null,
   "metadata": {
    "collapsed": true
   },
   "outputs": [],
   "source": [
    "### Rapid API for yahoo finance\n",
    "import unirest\n",
    "response = unirest.post(API_URL,\n",
    "  headers={\n",
    "    \"X-RapidAPI-Key\": API_KEY,\n",
    "    \"Content-Type\": \"application/x-www-form-urlencoded\"\n",
    "  },\n",
    "  params={\n",
    "    \"parameter\": \"value\"\n",
    "  }\n",
    ")\n",
    "response.code # The HTTP status code\n",
    "response.headers # The HTTP headers\n",
    "response.body # The parsed response\n",
    "response.raw_body # The unparsed response"
   ]
  },
  {
   "cell_type": "code",
   "execution_count": 1,
   "metadata": {},
   "outputs": [
    {
     "ename": "ModuleNotFoundError",
     "evalue": "No module named 'pandas_datareader'",
     "output_type": "error",
     "traceback": [
      "\u001b[0;31m---------------------------------------------------------------------------\u001b[0m",
      "\u001b[0;31mModuleNotFoundError\u001b[0m                       Traceback (most recent call last)",
      "\u001b[0;32m<ipython-input-1-75f869254055>\u001b[0m in \u001b[0;36m<module>\u001b[0;34m()\u001b[0m\n\u001b[0;32m----> 1\u001b[0;31m \u001b[0;32mfrom\u001b[0m \u001b[0mpandas_datareader\u001b[0m \u001b[0;32mimport\u001b[0m \u001b[0mdata\u001b[0m\u001b[0;34m\u001b[0m\u001b[0m\n\u001b[0m",
      "\u001b[0;31mModuleNotFoundError\u001b[0m: No module named 'pandas_datareader'"
     ]
    }
   ],
   "source": []
  },
  {
   "cell_type": "code",
   "execution_count": null,
   "metadata": {
    "collapsed": true
   },
   "outputs": [],
   "source": []
  }
 ],
 "metadata": {
  "kernelspec": {
   "display_name": "Python 3",
   "language": "python",
   "name": "python3"
  },
  "language_info": {
   "codemirror_mode": {
    "name": "ipython",
    "version": 3
   },
   "file_extension": ".py",
   "mimetype": "text/x-python",
   "name": "python",
   "nbconvert_exporter": "python",
   "pygments_lexer": "ipython3",
   "version": "3.6.1"
  }
 },
 "nbformat": 4,
 "nbformat_minor": 2
}
